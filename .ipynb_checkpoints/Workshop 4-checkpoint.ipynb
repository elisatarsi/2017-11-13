{
 "cells": [
  {
   "cell_type": "markdown",
   "metadata": {},
   "source": [
    "WORKSHOP 4\n",
    "====\n",
    "Conversione di funzioni provenienti dal file CAD-LMPS-2008 da Plasm in Python\n",
    "-------"
   ]
  },
  {
   "cell_type": "markdown",
   "metadata": {},
   "source": [
    "Colonna:\n",
    "-----\n",
    "\n",
    "Con questa funzione viene creata una colonna, dove:\n",
    "dm indica il diametro della circonferenza alla base della colonna.\n",
    "h indica l'altezza della colonna.\n",
    "h_base è l'altezza della base della colonna."
   ]
  },
  {
   "cell_type": "markdown",
   "metadata": {},
   "source": [
    "### Plasm Code:"
   ]
  },
  {
   "cell_type": "markdown",
   "metadata": {},
   "source": [
    "DEF columna (dm,h,h_base::isReal) = base TOP\n",
    "torus_bot TOP cylndr TOP torus_top TOP capital Top base_top\n",
    "WHERE\n",
    "cylindr = (JOIN∼TRUNCONE:< dm/2,0.8*dm/2,h >):24,\n",
    "torus_bot = (JOIN∼TORUS:< dm/12,d/2 >):< 8,24 >,\n",
    "torus_top = (JOIN∼TORUS:< 0.8*(dm/12),0.8*(dm/2)>):< 8,24 >,\n",
    "base = (T:< 1,2 >:< 7*dm/-12, 7*dm/-12 > ∼ CUBOID):< 7*dm/6, 7*dm/6, h_base >,\n",
    "base_top = (T:< 1,2 >:< 7*dm/-12, 7*dm/-12 > ≈ CUBOID):< 7*dm/6, 7*dm/6, dm/6 >,\n",
    "capital = (JOIN ∼ TRUNCONE:< 0.8*dm/2, 1.2*dm/2, h/8>):4 + (R:< 1,2 >:(PI/4) ∼ JOIN ∼ TRUNCONE:< 0.8*dm/2,1.2*dm/2,h/8 >):4\n",
    "END;"
   ]
  },
  {
   "cell_type": "markdown",
   "metadata": {},
   "source": [
    "### Python Code:"
   ]
  },
  {
   "cell_type": "code",
   "execution_count": 1,
   "metadata": {},
   "outputs": [
    {
     "name": "stdout",
     "output_type": "stream",
     "text": [
      "Evaluating fenvs.py..\n",
      "...fenvs.py imported in 0.014961 seconds\n"
     ]
    }
   ],
   "source": [
    "from pyplasm import*\n",
    "from larlib import*"
   ]
  },
  {
   "cell_type": "code",
   "execution_count": 2,
   "metadata": {},
   "outputs": [
    {
     "name": "stdout",
     "output_type": "stream",
     "text": [
      "Child 3\n",
      "Child 3\n"
     ]
    },
    {
     "data": {
      "text/plain": [
       "<pyplasm.xgepy.Hpc; proxy of <Swig Object of type 'std::shared_ptr< Hpc > *' at 0x181f3551e0> >"
      ]
     },
     "execution_count": 2,
     "metadata": {},
     "output_type": "execute_result"
    }
   ],
   "source": [
    "def columna(dm,h,h_base):\n",
    "    cylindr = COMP([JOIN,TRUNCONE([dm/2,0.8*(dm/2),h])])(24)\n",
    "    torus_bot = COMP([JOIN,TORUS([dm/12,dm/2])])([8,24])\n",
    "    torus_top = COMP([JOIN,TORUS([0.8*(dm/12),0.8*(dm/2)])])([8,27])\n",
    "    base = COMP([T([1,2])([7*(dm/-12),7*(dm/-23)]),CUBOID])([7*(dm/6),7*(dm/6),h_base])\n",
    "    base_top = COMP([T([1,2])([7*(dm/-12),7*(dm/-12)]),CUBOID])([7*(dm/6),7*(dm/6),dm/6])\n",
    "    capital = SUM([COMP([JOIN,TRUNCONE([0.8*dm/2, 1.2*dm/2,h/8])])(4),COMP([R([1,2])(PI/4),JOIN,TRUNCONE([0.8*dm/2,1.2*dm/2,h/8])])(4)]) \n",
    "    return TOP([TOP([TOP([TOP([TOP([base, torus_bot]), cylindr]), torus_top]), capital]), base_top])\n",
    "VIEW(columna(10,30,2))"
   ]
  },
  {
   "cell_type": "markdown",
   "metadata": {},
   "source": [
    "![\"Workshop4-1\"](Workshop4-1.png)"
   ]
  },
  {
   "cell_type": "markdown",
   "metadata": {
    "collapsed": true
   },
   "source": [
    "Arco:\n",
    "---\n"
   ]
  },
  {
   "cell_type": "markdown",
   "metadata": {},
   "source": [
    "### Plasm Code:\n",
    "    "
   ]
  },
  {
   "cell_type": "markdown",
   "metadata": {},
   "source": [
    "DEF ArchSurface (rr,w: : isreal) = Bezier : S2:< Circle0, Circle1>\n",
    "WHERE\n",
    "    Circle0 = <K : rr * cos  S1 , K : rr * sin  S1>,\n",
    "    Circle1 = < K : ( rr - w) * cos  S1 , K : ( rr - w)* sin  S1>\n",
    "END ;\n"
   ]
  },
  {
   "cell_type": "markdown",
   "metadata": {},
   "source": [
    "DEF Arch ( length, w, depth :: isreal) ( angle :: isreal) = (T : 3 : ( - : ceiling )  MAP : SolidMap ) : domain3D\n",
    "WHERE\n",
    "    radius = ( length/2) / cos : ( angle/2) ,\n",
    "    ceiling = MIN : 2 : ( MAP : ArchSurf2D : domain2D ) ,\n",
    "    domain2D = (T : 1 : ( angle/2) intervals : ( PI - angle ) ) : 16 * q : 1,\n",
    "    domain3D = domain2D * q : 1,\n",
    "    SolidMap = Bezier : S3:< Surf3D 0 , Surf3D 1 >,\n",
    "    ArchSurf2D = ArchSurface :< radius, w>,\n",
    "    Surf3D 0 = K: 0 AL ArchSurf2D ,\n",
    "    Surf3D 1 = K : depth AL ArchSurf2D\n",
    "END ;"
   ]
  },
  {
   "cell_type": "code",
   "execution_count": 3,
   "metadata": {
    "collapsed": true
   },
   "outputs": [],
   "source": [
    "def ArchSurface(rr,w,h):\n",
    "    x1 = lambda k: rr*cos(k[0])\n",
    "    y1 = lambda k: rr*sin(k[0])\n",
    "    x2 = lambda k: (rr-w)*cos(k[0])\n",
    "    y2 = lambda k: (rr-w)*sin(k[0])\n",
    "    z = lambda k: h\n",
    "    \n",
    "    Circle0 = BEZIER(S1)([CONS([x1,y1,z])])\n",
    "    Circle1 = BEZIER(S1)([CONS([x2,y2,z])])\n",
    "    return BEZIER(S2)([Circle0, Circle1])"
   ]
  },
  {
   "cell_type": "code",
   "execution_count": 4,
   "metadata": {},
   "outputs": [
    {
     "data": {
      "text/plain": [
       "<pyplasm.xgepy.Hpc; proxy of <Swig Object of type 'std::shared_ptr< Hpc > *' at 0x181f355ed0> >"
      ]
     },
     "execution_count": 4,
     "metadata": {},
     "output_type": "execute_result"
    }
   ],
   "source": [
    "def Arch(length,w,depth,angle):\n",
    "        radius=(length/2)/cos(angle/2)\n",
    "        domain2D=PROD([T(1)(angle/2)(INTERVALS(PI-angle)(16)),QUOTE([1])])\n",
    "        domain3D=PROD([domain2D, QUOTE([1])])\n",
    "        ArchSurf2D0=ArchSurface(radius,w,0)\n",
    "        ArchSurf2D1=ArchSurface(radius,w,depth)\n",
    "        SolidMap=BEZIER(S3)([ArchSurf2D0, ArchSurf2D1])\n",
    "        return MAP(SolidMap)(domain3D)\n",
    "\n",
    "VIEW(Arch(15,1.5,1.5,PI*0.3))"
   ]
  },
  {
   "cell_type": "markdown",
   "metadata": {},
   "source": [
    "![\"Workshop4-2\"](Workshop4-2.png)"
   ]
  },
  {
   "cell_type": "markdown",
   "metadata": {},
   "source": []
  }
 ],
 "metadata": {
  "kernelspec": {
   "display_name": "Python 2",
   "language": "python",
   "name": "python2"
  },
  "language_info": {
   "codemirror_mode": {
    "name": "ipython",
    "version": 2
   },
   "file_extension": ".py",
   "mimetype": "text/x-python",
   "name": "python",
   "nbconvert_exporter": "python",
   "pygments_lexer": "ipython2",
   "version": "2.7.13"
  }
 },
 "nbformat": 4,
 "nbformat_minor": 2
}
